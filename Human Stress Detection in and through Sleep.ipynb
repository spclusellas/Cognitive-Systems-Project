{
 "cells": [
  {
   "cell_type": "markdown",
   "id": "5b9e3f4c",
   "metadata": {},
   "source": [
    "## Human Stress Detection in and through Sleep\n",
    "\n",
    "### Human Stress Detection in and through Sleep by monitoring physiological data.\n",
    "\n",
    "Considering today’s lifestyle, people just sleep forgetting the benefits sleep provides to the human body. Smart-Yoga Pillow (SaYoPillow) is proposed to help in understanding the relationship between stress and sleep and to fully materialize the idea of “Smart-Sleeping” by proposing an edge device. An edge processor with a model analyzing the physiological changes that occur during sleep along with the sleeping habits is proposed. Based on these changes during sleep, stress prediction for the following day is proposed. The secure transfer of the analyzed stress data along with the average physiological changes to the IoT cloud for storage is implemented. A secure transfer of any data from the cloud to any third-party applications is also proposed. A user interface is provided allowing the user to control the data accessibility and visibility. SaYoPillow is novel, with security features as well as consideration of sleeping habits for stress reduction, with an accuracy of up to 96%.\n",
    "In SayoPillow.csv, you will see the relationship between the parameters- snoring range of the user, respiration rate, body temperature, limb movement rate, blood oxygen levels, eye movement, number of hours of sleep, heart rate and Stress Levels (0- low/normal, 1 – medium low, 2- medium, 3-medium high, 4 -high) that has been generated from Literature Review. (No human subjects were considered)\n",
    "If you are using this dataset or found any of this information contributing towards your research, please cite:\n",
    "\n",
    "L. Rachakonda, A. K. Bapatla, S. P. Mohanty, and E. Kougianos, “SaYoPillow: Blockchain-Integrated Privacy-Assured IoMT Framework for Stress Management Considering Sleeping Habits”, IEEE Transactions on Consumer Electronics (TCE), Vol. 67, No. 1, Feb 2021, pp. 20-29.\n",
    "L. Rachakonda, S. P. Mohanty, E. Kougianos, K. Karunakaran, and M. Ganapathiraju, “Smart-Pillow: An IoT based Device for Stress Detection Considering Sleeping Habits”, in Proceedings of the 4th IEEE International Symposium on Smart Electronic Systems (iSES), 2018, pp. 161--166.\n",
    "\n",
    "Source: https://www.kaggle.com/laavanya/human-stress-detection-in-and-through-sleep"
   ]
  },
  {
   "cell_type": "code",
   "execution_count": 1,
   "id": "6643be9e",
   "metadata": {},
   "outputs": [],
   "source": [
    "import pandas as pd\n",
    "import numpy as np \n",
    "import matplotlib.pyplot as plt \n",
    "import seaborn as sb\n",
    "\n",
    "from sklearn.model_selection import train_test_split\n",
    "from sklearn.metrics import accuracy_score, classification_report, confusion_matrix"
   ]
  },
  {
   "cell_type": "markdown",
   "id": "5abccad8",
   "metadata": {},
   "source": [
    "### Column Description\n",
    "\n",
    "#### Columns:\n",
    "\n",
    "- Snoring Range = **sr**\n",
    "- Respiration Rate = **rr**\n",
    "- Body Temperature = **t**\n",
    "- Limb Movement Rate = **lm**\n",
    "- Blood Oxygen Levels = **bo**\n",
    "- Eye Movement = **rem**\n",
    "- Number of Hours of Sleep = **sr.1**\n",
    "- Heart Rate = **hr** \n",
    "- Stress Levels = **sl**"
   ]
  },
  {
   "cell_type": "code",
   "execution_count": 2,
   "id": "6c8953b5",
   "metadata": {},
   "outputs": [
    {
     "data": {
      "text/html": [
       "<div>\n",
       "<style scoped>\n",
       "    .dataframe tbody tr th:only-of-type {\n",
       "        vertical-align: middle;\n",
       "    }\n",
       "\n",
       "    .dataframe tbody tr th {\n",
       "        vertical-align: top;\n",
       "    }\n",
       "\n",
       "    .dataframe thead th {\n",
       "        text-align: right;\n",
       "    }\n",
       "</style>\n",
       "<table border=\"1\" class=\"dataframe\">\n",
       "  <thead>\n",
       "    <tr style=\"text-align: right;\">\n",
       "      <th></th>\n",
       "      <th>sr</th>\n",
       "      <th>rr</th>\n",
       "      <th>t</th>\n",
       "      <th>lm</th>\n",
       "      <th>bo</th>\n",
       "      <th>rem</th>\n",
       "      <th>sr.1</th>\n",
       "      <th>hr</th>\n",
       "      <th>sl</th>\n",
       "    </tr>\n",
       "  </thead>\n",
       "  <tbody>\n",
       "    <tr>\n",
       "      <th>0</th>\n",
       "      <td>93.80</td>\n",
       "      <td>25.680</td>\n",
       "      <td>91.840</td>\n",
       "      <td>16.600</td>\n",
       "      <td>89.840</td>\n",
       "      <td>99.60</td>\n",
       "      <td>1.840</td>\n",
       "      <td>74.20</td>\n",
       "      <td>3</td>\n",
       "    </tr>\n",
       "    <tr>\n",
       "      <th>1</th>\n",
       "      <td>91.64</td>\n",
       "      <td>25.104</td>\n",
       "      <td>91.552</td>\n",
       "      <td>15.880</td>\n",
       "      <td>89.552</td>\n",
       "      <td>98.88</td>\n",
       "      <td>1.552</td>\n",
       "      <td>72.76</td>\n",
       "      <td>3</td>\n",
       "    </tr>\n",
       "    <tr>\n",
       "      <th>2</th>\n",
       "      <td>60.00</td>\n",
       "      <td>20.000</td>\n",
       "      <td>96.000</td>\n",
       "      <td>10.000</td>\n",
       "      <td>95.000</td>\n",
       "      <td>85.00</td>\n",
       "      <td>7.000</td>\n",
       "      <td>60.00</td>\n",
       "      <td>1</td>\n",
       "    </tr>\n",
       "    <tr>\n",
       "      <th>3</th>\n",
       "      <td>85.76</td>\n",
       "      <td>23.536</td>\n",
       "      <td>90.768</td>\n",
       "      <td>13.920</td>\n",
       "      <td>88.768</td>\n",
       "      <td>96.92</td>\n",
       "      <td>0.768</td>\n",
       "      <td>68.84</td>\n",
       "      <td>3</td>\n",
       "    </tr>\n",
       "    <tr>\n",
       "      <th>4</th>\n",
       "      <td>48.12</td>\n",
       "      <td>17.248</td>\n",
       "      <td>97.872</td>\n",
       "      <td>6.496</td>\n",
       "      <td>96.248</td>\n",
       "      <td>72.48</td>\n",
       "      <td>8.248</td>\n",
       "      <td>53.12</td>\n",
       "      <td>0</td>\n",
       "    </tr>\n",
       "  </tbody>\n",
       "</table>\n",
       "</div>"
      ],
      "text/plain": [
       "      sr      rr       t      lm      bo    rem   sr.1     hr  sl\n",
       "0  93.80  25.680  91.840  16.600  89.840  99.60  1.840  74.20   3\n",
       "1  91.64  25.104  91.552  15.880  89.552  98.88  1.552  72.76   3\n",
       "2  60.00  20.000  96.000  10.000  95.000  85.00  7.000  60.00   1\n",
       "3  85.76  23.536  90.768  13.920  88.768  96.92  0.768  68.84   3\n",
       "4  48.12  17.248  97.872   6.496  96.248  72.48  8.248  53.12   0"
      ]
     },
     "execution_count": 2,
     "metadata": {},
     "output_type": "execute_result"
    }
   ],
   "source": [
    "df = pd.read_csv('data/SaYoPillow.csv')\n",
    "df.head()"
   ]
  },
  {
   "cell_type": "code",
   "execution_count": 3,
   "id": "7dc1c759",
   "metadata": {},
   "outputs": [
    {
     "data": {
      "text/html": [
       "<div>\n",
       "<style scoped>\n",
       "    .dataframe tbody tr th:only-of-type {\n",
       "        vertical-align: middle;\n",
       "    }\n",
       "\n",
       "    .dataframe tbody tr th {\n",
       "        vertical-align: top;\n",
       "    }\n",
       "\n",
       "    .dataframe thead th {\n",
       "        text-align: right;\n",
       "    }\n",
       "</style>\n",
       "<table border=\"1\" class=\"dataframe\">\n",
       "  <thead>\n",
       "    <tr style=\"text-align: right;\">\n",
       "      <th></th>\n",
       "      <th>sr</th>\n",
       "      <th>rr</th>\n",
       "      <th>t</th>\n",
       "      <th>lm</th>\n",
       "      <th>bo</th>\n",
       "      <th>rem</th>\n",
       "      <th>sr.1</th>\n",
       "      <th>hr</th>\n",
       "      <th>sl</th>\n",
       "    </tr>\n",
       "  </thead>\n",
       "  <tbody>\n",
       "    <tr>\n",
       "      <th>count</th>\n",
       "      <td>630.000000</td>\n",
       "      <td>630.000000</td>\n",
       "      <td>630.00000</td>\n",
       "      <td>630.000000</td>\n",
       "      <td>630.000000</td>\n",
       "      <td>630.000000</td>\n",
       "      <td>630.000000</td>\n",
       "      <td>630.000000</td>\n",
       "      <td>630.000000</td>\n",
       "    </tr>\n",
       "    <tr>\n",
       "      <th>mean</th>\n",
       "      <td>71.600000</td>\n",
       "      <td>21.800000</td>\n",
       "      <td>92.80000</td>\n",
       "      <td>11.700000</td>\n",
       "      <td>90.900000</td>\n",
       "      <td>88.500000</td>\n",
       "      <td>3.700000</td>\n",
       "      <td>64.500000</td>\n",
       "      <td>2.000000</td>\n",
       "    </tr>\n",
       "    <tr>\n",
       "      <th>std</th>\n",
       "      <td>19.372833</td>\n",
       "      <td>3.966111</td>\n",
       "      <td>3.52969</td>\n",
       "      <td>4.299629</td>\n",
       "      <td>3.902483</td>\n",
       "      <td>11.893747</td>\n",
       "      <td>3.054572</td>\n",
       "      <td>9.915277</td>\n",
       "      <td>1.415337</td>\n",
       "    </tr>\n",
       "    <tr>\n",
       "      <th>min</th>\n",
       "      <td>45.000000</td>\n",
       "      <td>16.000000</td>\n",
       "      <td>85.00000</td>\n",
       "      <td>4.000000</td>\n",
       "      <td>82.000000</td>\n",
       "      <td>60.000000</td>\n",
       "      <td>0.000000</td>\n",
       "      <td>50.000000</td>\n",
       "      <td>0.000000</td>\n",
       "    </tr>\n",
       "    <tr>\n",
       "      <th>25%</th>\n",
       "      <td>52.500000</td>\n",
       "      <td>18.500000</td>\n",
       "      <td>90.50000</td>\n",
       "      <td>8.500000</td>\n",
       "      <td>88.500000</td>\n",
       "      <td>81.250000</td>\n",
       "      <td>0.500000</td>\n",
       "      <td>56.250000</td>\n",
       "      <td>1.000000</td>\n",
       "    </tr>\n",
       "    <tr>\n",
       "      <th>50%</th>\n",
       "      <td>70.000000</td>\n",
       "      <td>21.000000</td>\n",
       "      <td>93.00000</td>\n",
       "      <td>11.000000</td>\n",
       "      <td>91.000000</td>\n",
       "      <td>90.000000</td>\n",
       "      <td>3.500000</td>\n",
       "      <td>62.500000</td>\n",
       "      <td>2.000000</td>\n",
       "    </tr>\n",
       "    <tr>\n",
       "      <th>75%</th>\n",
       "      <td>91.250000</td>\n",
       "      <td>25.000000</td>\n",
       "      <td>95.50000</td>\n",
       "      <td>15.750000</td>\n",
       "      <td>94.250000</td>\n",
       "      <td>98.750000</td>\n",
       "      <td>6.500000</td>\n",
       "      <td>72.500000</td>\n",
       "      <td>3.000000</td>\n",
       "    </tr>\n",
       "    <tr>\n",
       "      <th>max</th>\n",
       "      <td>100.000000</td>\n",
       "      <td>30.000000</td>\n",
       "      <td>99.00000</td>\n",
       "      <td>19.000000</td>\n",
       "      <td>97.000000</td>\n",
       "      <td>105.000000</td>\n",
       "      <td>9.000000</td>\n",
       "      <td>85.000000</td>\n",
       "      <td>4.000000</td>\n",
       "    </tr>\n",
       "  </tbody>\n",
       "</table>\n",
       "</div>"
      ],
      "text/plain": [
       "               sr          rr          t          lm          bo         rem  \\\n",
       "count  630.000000  630.000000  630.00000  630.000000  630.000000  630.000000   \n",
       "mean    71.600000   21.800000   92.80000   11.700000   90.900000   88.500000   \n",
       "std     19.372833    3.966111    3.52969    4.299629    3.902483   11.893747   \n",
       "min     45.000000   16.000000   85.00000    4.000000   82.000000   60.000000   \n",
       "25%     52.500000   18.500000   90.50000    8.500000   88.500000   81.250000   \n",
       "50%     70.000000   21.000000   93.00000   11.000000   91.000000   90.000000   \n",
       "75%     91.250000   25.000000   95.50000   15.750000   94.250000   98.750000   \n",
       "max    100.000000   30.000000   99.00000   19.000000   97.000000  105.000000   \n",
       "\n",
       "             sr.1          hr          sl  \n",
       "count  630.000000  630.000000  630.000000  \n",
       "mean     3.700000   64.500000    2.000000  \n",
       "std      3.054572    9.915277    1.415337  \n",
       "min      0.000000   50.000000    0.000000  \n",
       "25%      0.500000   56.250000    1.000000  \n",
       "50%      3.500000   62.500000    2.000000  \n",
       "75%      6.500000   72.500000    3.000000  \n",
       "max      9.000000   85.000000    4.000000  "
      ]
     },
     "execution_count": 3,
     "metadata": {},
     "output_type": "execute_result"
    }
   ],
   "source": [
    "df.describe()"
   ]
  },
  {
   "cell_type": "code",
   "execution_count": 4,
   "id": "2b604bc1",
   "metadata": {},
   "outputs": [
    {
     "data": {
      "text/plain": [
       "<AxesSubplot:>"
      ]
     },
     "execution_count": 4,
     "metadata": {},
     "output_type": "execute_result"
    },
    {
     "data": {
      "image/png": "[encoded data removed]",
      "text/plain": [
       "<Figure size 720x720 with 2 Axes>"
      ]
     },
     "metadata": {
      "needs_background": "light"
     },
     "output_type": "display_data"
    }
   ],
   "source": [
    "fig, ax = plt.subplots(figsize=(10,10))  \n",
    "corr = df.corr()\n",
    "sb.heatmap(corr, annot=True, vmin=0.9, vmax=0.99)"
   ]
  },
  {
   "cell_type": "code",
   "execution_count": 5,
   "id": "bab599ed",
   "metadata": {},
   "outputs": [
    {
     "data": {
      "text/plain": [
       "3    126\n",
       "1    126\n",
       "0    126\n",
       "2    126\n",
       "4    126\n",
       "Name: sl, dtype: int64"
      ]
     },
     "execution_count": 5,
     "metadata": {},
     "output_type": "execute_result"
    }
   ],
   "source": [
    "df.sl.value_counts()"
   ]
  },
  {
   "cell_type": "code",
   "execution_count": 6,
   "id": "56a2f456",
   "metadata": {},
   "outputs": [
    {
     "data": {
      "image/png": "[encoded data removed]",
      "text/plain": [
       "<Figure size 576x576 with 1 Axes>"
      ]
     },
     "metadata": {
      "needs_background": "light"
     },
     "output_type": "display_data"
    }
   ],
   "source": [
    "fig, ax = plt.subplots(figsize=(8,8))  \n",
    "barp = sb.countplot(x=\"sl\", data=df)"
   ]
  },
  {
   "cell_type": "code",
   "execution_count": 7,
   "id": "599e8d05",
   "metadata": {},
   "outputs": [],
   "source": [
    "import tensorflow as tf\n",
    "from tensorflow.keras.models import Sequential\n",
    "from tensorflow.keras.layers import Dense, Dropout\n",
    "from tensorflow.keras.utils import to_categorical\n",
    "\n",
    "from sklearn.neural_network import MLPClassifier\n",
    "from sklearn.svm import SVC\n",
    "from sklearn.linear_model import Perceptron, LinearRegression\n",
    "from sklearn.preprocessing import MinMaxScaler\n",
    "from sklearn.model_selection import learning_curve"
   ]
  },
  {
   "cell_type": "code",
   "execution_count": 8,
   "id": "ff694f10",
   "metadata": {},
   "outputs": [],
   "source": [
    "scaler = MinMaxScaler()"
   ]
  },
  {
   "cell_type": "code",
   "execution_count": 9,
   "id": "a504d101",
   "metadata": {},
   "outputs": [
    {
     "name": "stdout",
     "output_type": "stream",
     "text": [
      "(630, 8) (630,)\n"
     ]
    },
    {
     "data": {
      "text/html": [
       "<div>\n",
       "<style scoped>\n",
       "    .dataframe tbody tr th:only-of-type {\n",
       "        vertical-align: middle;\n",
       "    }\n",
       "\n",
       "    .dataframe tbody tr th {\n",
       "        vertical-align: top;\n",
       "    }\n",
       "\n",
       "    .dataframe thead th {\n",
       "        text-align: right;\n",
       "    }\n",
       "</style>\n",
       "<table border=\"1\" class=\"dataframe\">\n",
       "  <thead>\n",
       "    <tr style=\"text-align: right;\">\n",
       "      <th></th>\n",
       "      <th>sr</th>\n",
       "      <th>rr</th>\n",
       "      <th>t</th>\n",
       "      <th>lm</th>\n",
       "      <th>bo</th>\n",
       "      <th>rem</th>\n",
       "      <th>sr.1</th>\n",
       "      <th>hr</th>\n",
       "    </tr>\n",
       "  </thead>\n",
       "  <tbody>\n",
       "    <tr>\n",
       "      <th>0</th>\n",
       "      <td>0.887273</td>\n",
       "      <td>0.691429</td>\n",
       "      <td>0.488571</td>\n",
       "      <td>0.840000</td>\n",
       "      <td>0.522667</td>\n",
       "      <td>0.880000</td>\n",
       "      <td>0.204444</td>\n",
       "      <td>0.691429</td>\n",
       "    </tr>\n",
       "    <tr>\n",
       "      <th>1</th>\n",
       "      <td>0.848000</td>\n",
       "      <td>0.650286</td>\n",
       "      <td>0.468000</td>\n",
       "      <td>0.792000</td>\n",
       "      <td>0.503467</td>\n",
       "      <td>0.864000</td>\n",
       "      <td>0.172444</td>\n",
       "      <td>0.650286</td>\n",
       "    </tr>\n",
       "    <tr>\n",
       "      <th>2</th>\n",
       "      <td>0.272727</td>\n",
       "      <td>0.285714</td>\n",
       "      <td>0.785714</td>\n",
       "      <td>0.400000</td>\n",
       "      <td>0.866667</td>\n",
       "      <td>0.555556</td>\n",
       "      <td>0.777778</td>\n",
       "      <td>0.285714</td>\n",
       "    </tr>\n",
       "    <tr>\n",
       "      <th>3</th>\n",
       "      <td>0.741091</td>\n",
       "      <td>0.538286</td>\n",
       "      <td>0.412000</td>\n",
       "      <td>0.661333</td>\n",
       "      <td>0.451200</td>\n",
       "      <td>0.820444</td>\n",
       "      <td>0.085333</td>\n",
       "      <td>0.538286</td>\n",
       "    </tr>\n",
       "    <tr>\n",
       "      <th>4</th>\n",
       "      <td>0.056727</td>\n",
       "      <td>0.089143</td>\n",
       "      <td>0.919429</td>\n",
       "      <td>0.166400</td>\n",
       "      <td>0.949867</td>\n",
       "      <td>0.277333</td>\n",
       "      <td>0.916444</td>\n",
       "      <td>0.089143</td>\n",
       "    </tr>\n",
       "  </tbody>\n",
       "</table>\n",
       "</div>"
      ],
      "text/plain": [
       "         sr        rr         t        lm        bo       rem      sr.1  \\\n",
       "0  0.887273  0.691429  0.488571  0.840000  0.522667  0.880000  0.204444   \n",
       "1  0.848000  0.650286  0.468000  0.792000  0.503467  0.864000  0.172444   \n",
       "2  0.272727  0.285714  0.785714  0.400000  0.866667  0.555556  0.777778   \n",
       "3  0.741091  0.538286  0.412000  0.661333  0.451200  0.820444  0.085333   \n",
       "4  0.056727  0.089143  0.919429  0.166400  0.949867  0.277333  0.916444   \n",
       "\n",
       "         hr  \n",
       "0  0.691429  \n",
       "1  0.650286  \n",
       "2  0.285714  \n",
       "3  0.538286  \n",
       "4  0.089143  "
      ]
     },
     "execution_count": 9,
     "metadata": {},
     "output_type": "execute_result"
    }
   ],
   "source": [
    "# Sc\n",
    "X = df.drop(columns = ['sl'])\n",
    "X[X.columns] = scaler.fit_transform(X[X.columns])\n",
    "Y = df['sl']\n",
    "\n",
    "print(X.shape, Y.shape)\n",
    "X.head()"
   ]
  },
  {
   "cell_type": "code",
   "execution_count": 10,
   "id": "5d2dce35",
   "metadata": {},
   "outputs": [],
   "source": [
    "X_train, X_test, y_train, y_test=train_test_split(df.iloc[:, :8], df['sl'], test_size=0.25, random_state=8)"
   ]
  },
  {
   "cell_type": "markdown",
   "id": "0f8ef2ab",
   "metadata": {},
   "source": [
    "### TensorFlow MLP"
   ]
  },
  {
   "cell_type": "code",
   "execution_count": 11,
   "id": "9980e713",
   "metadata": {},
   "outputs": [],
   "source": [
    "num_classes=5\n",
    "y_train_tf=to_categorical(y_train, num_classes)\n",
    "y_test_tf=to_categorical(y_test, num_classes)"
   ]
  },
  {
   "cell_type": "code",
   "execution_count": 12,
   "id": "3eff75d6",
   "metadata": {},
   "outputs": [],
   "source": [
    "model=Sequential()\n",
    "model.add(Dense(30, activation=\"relu\"))\n",
    "model.add(Dense(20, activation=\"relu\"))\n",
    "model.add(Dense(20, activation=\"relu\"))\n",
    "model.add(Dense(5, \"softmax\"))"
   ]
  },
  {
   "cell_type": "code",
   "execution_count": 13,
   "id": "b98a7abe",
   "metadata": {},
   "outputs": [
    {
     "name": "stdout",
     "output_type": "stream",
     "text": [
      "WARNING:tensorflow:From /opt/anaconda3/envs/SDIC/lib/python3.7/site-packages/tensorflow_core/python/ops/resource_variable_ops.py:1630: calling BaseResourceVariable.__init__ (from tensorflow.python.ops.resource_variable_ops) with constraint is deprecated and will be removed in a future version.\n",
      "Instructions for updating:\n",
      "If using Keras pass *_constraint arguments to layers.\n",
      "Train on 377 samples, validate on 95 samples\n",
      "Epoch 1/20\n",
      " 32/377 [=>............................] - ETA: 0s - loss: 38.4557 - acc: 0.0312"
     ]
    },
    {
     "name": "stderr",
     "output_type": "stream",
     "text": [
      "2022-03-22 14:13:45.326723: I tensorflow/core/platform/cpu_feature_guard.cc:142] Your CPU supports instructions that this TensorFlow binary was not compiled to use: AVX2 FMA\n",
      "2022-03-22 14:13:45.346214: I tensorflow/compiler/xla/service/service.cc:168] XLA service 0x7fe15d7ef110 initialized for platform Host (this does not guarantee that XLA will be used). Devices:\n",
      "2022-03-22 14:13:45.346230: I tensorflow/compiler/xla/service/service.cc:176]   StreamExecutor device (0): Host, Default Version\n"
     ]
    },
    {
     "name": "stdout",
     "output_type": "stream",
     "text": [
      "377/377 [==============================] - 0s 379us/sample - loss: 18.0122 - acc: 0.2838 - val_loss: 7.8829 - val_acc: 0.4737\n",
      "Epoch 2/20\n",
      "377/377 [==============================] - 0s 128us/sample - loss: 7.2539 - acc: 0.3050 - val_loss: 4.3933 - val_acc: 0.1579\n",
      "Epoch 3/20\n",
      "377/377 [==============================] - 0s 124us/sample - loss: 3.4127 - acc: 0.2149 - val_loss: 1.8505 - val_acc: 0.1158\n",
      "Epoch 4/20\n",
      "377/377 [==============================] - 0s 118us/sample - loss: 1.7881 - acc: 0.1592 - val_loss: 1.7606 - val_acc: 0.3158\n",
      "Epoch 5/20\n",
      "377/377 [==============================] - 0s 113us/sample - loss: 1.6787 - acc: 0.1538 - val_loss: 1.6431 - val_acc: 0.2211\n",
      "Epoch 6/20\n",
      "377/377 [==============================] - 0s 108us/sample - loss: 1.5434 - acc: 0.2785 - val_loss: 1.5075 - val_acc: 0.3158\n",
      "Epoch 7/20\n",
      "377/377 [==============================] - 0s 87us/sample - loss: 1.4469 - acc: 0.3607 - val_loss: 1.4174 - val_acc: 0.3474\n",
      "Epoch 8/20\n",
      "377/377 [==============================] - 0s 109us/sample - loss: 1.3702 - acc: 0.4164 - val_loss: 1.3415 - val_acc: 0.4842\n",
      "Epoch 9/20\n",
      "377/377 [==============================] - 0s 98us/sample - loss: 1.2644 - acc: 0.4456 - val_loss: 1.2605 - val_acc: 0.4737\n",
      "Epoch 10/20\n",
      "377/377 [==============================] - 0s 97us/sample - loss: 1.1552 - acc: 0.5703 - val_loss: 1.1262 - val_acc: 0.5579\n",
      "Epoch 11/20\n",
      "377/377 [==============================] - 0s 92us/sample - loss: 1.0744 - acc: 0.5968 - val_loss: 1.0899 - val_acc: 0.5158\n",
      "Epoch 12/20\n",
      "377/377 [==============================] - 0s 79us/sample - loss: 0.9936 - acc: 0.6472 - val_loss: 1.0056 - val_acc: 0.6526\n",
      "Epoch 13/20\n",
      "377/377 [==============================] - 0s 98us/sample - loss: 0.9381 - acc: 0.7135 - val_loss: 0.9741 - val_acc: 0.4737\n",
      "Epoch 14/20\n",
      "377/377 [==============================] - 0s 138us/sample - loss: 0.8798 - acc: 0.6631 - val_loss: 0.8770 - val_acc: 0.6526\n",
      "Epoch 15/20\n",
      "377/377 [==============================] - 0s 115us/sample - loss: 0.8388 - acc: 0.7401 - val_loss: 0.8464 - val_acc: 0.8000\n",
      "Epoch 16/20\n",
      "377/377 [==============================] - 0s 123us/sample - loss: 0.7795 - acc: 0.9178 - val_loss: 0.7826 - val_acc: 1.0000\n",
      "Epoch 17/20\n",
      "377/377 [==============================] - 0s 115us/sample - loss: 0.7321 - acc: 0.9682 - val_loss: 0.7393 - val_acc: 0.8842\n",
      "Epoch 18/20\n",
      "377/377 [==============================] - 0s 157us/sample - loss: 0.7026 - acc: 0.9019 - val_loss: 0.6841 - val_acc: 0.9895\n",
      "Epoch 19/20\n",
      "377/377 [==============================] - 0s 122us/sample - loss: 0.6527 - acc: 0.9602 - val_loss: 0.6519 - val_acc: 0.8842\n",
      "Epoch 20/20\n",
      "377/377 [==============================] - 0s 97us/sample - loss: 0.6179 - acc: 0.9602 - val_loss: 0.6036 - val_acc: 1.0000\n"
     ]
    }
   ],
   "source": [
    "epochs=20\n",
    "model.compile(loss='categorical_crossentropy', optimizer='adam', metrics=['accuracy'])\n",
    "stats=model.fit(X_train.values, y_train_tf, epochs=epochs, validation_split=0.2)"
   ]
  },
  {
   "cell_type": "code",
   "execution_count": 14,
   "id": "cd40fb9e",
   "metadata": {},
   "outputs": [
    {
     "data": {
      "image/png": "[encoded data removed]",
      "text/plain": [
       "<Figure size 720x576 with 1 Axes>"
      ]
     },
     "metadata": {
      "needs_background": "light"
     },
     "output_type": "display_data"
    }
   ],
   "source": [
    "stats_df=pd.DataFrame(stats.history)\n",
    "stats_df['epoch']=list(range(epochs))\n",
    "plt.figure(figsize=(10, 8))\n",
    "sb.lineplot(y='loss', x='epoch', data=stats_df, color='deeppink', linewidth=2.5, label=\"Training loss\")\n",
    "sb.lineplot(y='val_loss', x='epoch', data=stats_df, color='darkturquoise', linewidth=2.5, label=\"Validation loss\")\n",
    "plt.grid()\n",
    "plt.legend()\n",
    "plt.title(\"Training and validation loss\")\n",
    "plt.xticks(range(0, epochs + 1, 5));"
   ]
  },
  {
   "cell_type": "code",
   "execution_count": 15,
   "id": "5b9eaa58",
   "metadata": {},
   "outputs": [
    {
     "name": "stdout",
     "output_type": "stream",
     "text": [
      "158/158 [==============================] - 0s 57us/sample - loss: 0.5381 - acc: 1.0000\n"
     ]
    }
   ],
   "source": [
    "_, accuracy=model.evaluate(X_test, y_test_tf)"
   ]
  },
  {
   "cell_type": "markdown",
   "id": "4f2d240a",
   "metadata": {},
   "source": [
    "### MLPClassifier"
   ]
  },
  {
   "cell_type": "code",
   "execution_count": 16,
   "id": "afa464fe",
   "metadata": {},
   "outputs": [],
   "source": [
    "X_train, X_test, y_train, y_test=train_test_split(X, Y, test_size=0.25, random_state=8)"
   ]
  },
  {
   "cell_type": "code",
   "execution_count": 17,
   "id": "358df056",
   "metadata": {},
   "outputs": [
    {
     "name": "stderr",
     "output_type": "stream",
     "text": [
      "/opt/anaconda3/envs/SDIC/lib/python3.7/site-packages/sklearn/neural_network/_multilayer_perceptron.py:696: ConvergenceWarning: Stochastic Optimizer: Maximum iterations (100) reached and the optimization hasn't converged yet.\n",
      "  ConvergenceWarning,\n"
     ]
    }
   ],
   "source": [
    "mlp_classifier = MLPClassifier(hidden_layer_sizes=(10,2), max_iter=100).fit(X_train, y_train)"
   ]
  },
  {
   "cell_type": "code",
   "execution_count": 18,
   "id": "953bf9f2",
   "metadata": {},
   "outputs": [],
   "source": [
    "mlp_y_pred = mlp_classifier.predict(X_test)"
   ]
  },
  {
   "cell_type": "code",
   "execution_count": 19,
   "id": "f14c846c",
   "metadata": {},
   "outputs": [
    {
     "name": "stdout",
     "output_type": "stream",
     "text": [
      "Classification report for classifier MLPClassifier(hidden_layer_sizes=(10, 2), max_iter=100):\n",
      "              precision    recall  f1-score   support\n",
      "\n",
      "           0       0.00      0.00      0.00        39\n",
      "           1       0.00      0.00      0.00        28\n",
      "           2       0.30      1.00      0.46        29\n",
      "           3       0.00      0.00      0.00        26\n",
      "           4       0.58      1.00      0.73        36\n",
      "\n",
      "    accuracy                           0.41       158\n",
      "   macro avg       0.18      0.40      0.24       158\n",
      "weighted avg       0.19      0.41      0.25       158\n",
      "\n",
      "\n"
     ]
    },
    {
     "name": "stderr",
     "output_type": "stream",
     "text": [
      "/opt/anaconda3/envs/SDIC/lib/python3.7/site-packages/sklearn/metrics/_classification.py:1318: UndefinedMetricWarning: Precision and F-score are ill-defined and being set to 0.0 in labels with no predicted samples. Use `zero_division` parameter to control this behavior.\n",
      "  _warn_prf(average, modifier, msg_start, len(result))\n",
      "/opt/anaconda3/envs/SDIC/lib/python3.7/site-packages/sklearn/metrics/_classification.py:1318: UndefinedMetricWarning: Precision and F-score are ill-defined and being set to 0.0 in labels with no predicted samples. Use `zero_division` parameter to control this behavior.\n",
      "  _warn_prf(average, modifier, msg_start, len(result))\n",
      "/opt/anaconda3/envs/SDIC/lib/python3.7/site-packages/sklearn/metrics/_classification.py:1318: UndefinedMetricWarning: Precision and F-score are ill-defined and being set to 0.0 in labels with no predicted samples. Use `zero_division` parameter to control this behavior.\n",
      "  _warn_prf(average, modifier, msg_start, len(result))\n"
     ]
    },
    {
     "data": {
      "text/plain": [
       "array([[ 0,  0, 39,  0,  0],\n",
       "       [ 0,  0, 28,  0,  0],\n",
       "       [ 0,  0, 29,  0,  0],\n",
       "       [ 0,  0,  0,  0, 26],\n",
       "       [ 0,  0,  0,  0, 36]])"
      ]
     },
     "execution_count": 19,
     "metadata": {},
     "output_type": "execute_result"
    }
   ],
   "source": [
    "c_report = classification_report(y_test, mlp_y_pred)\n",
    "\n",
    "print(\"Classification report for classifier %s:\\n%s\\n\"\n",
    "      % (mlp_classifier, c_report))\n",
    "cm = confusion_matrix(y_test, mlp_y_pred)\n",
    "cm"
   ]
  },
  {
   "cell_type": "code",
   "execution_count": 20,
   "id": "a149cd0c",
   "metadata": {},
   "outputs": [],
   "source": [
    "test_acc = accuracy_score(y_test, mlp_y_pred) * 100.\n",
    "loss_values = mlp_classifier.loss_curve_"
   ]
  },
  {
   "cell_type": "code",
   "execution_count": 21,
   "id": "f4bcc975",
   "metadata": {},
   "outputs": [
    {
     "data": {
      "image/png": "[encoded data removed]",
      "text/plain": [
       "<Figure size 432x288 with 1 Axes>"
      ]
     },
     "metadata": {
      "needs_background": "light"
     },
     "output_type": "display_data"
    }
   ],
   "source": [
    "plt.plot(loss_values)\n",
    "plt.show()"
   ]
  },
  {
   "cell_type": "markdown",
   "id": "b335ad49",
   "metadata": {},
   "source": [
    "### SVC"
   ]
  },
  {
   "cell_type": "code",
   "execution_count": 22,
   "id": "e50af970",
   "metadata": {},
   "outputs": [
    {
     "data": {
      "text/plain": [
       "SVC()"
      ]
     },
     "execution_count": 22,
     "metadata": {},
     "output_type": "execute_result"
    }
   ],
   "source": [
    "SVC_classifier = SVC()\n",
    "SVC_classifier.fit(X_train, y_train)"
   ]
  },
  {
   "cell_type": "code",
   "execution_count": 23,
   "id": "867631b6",
   "metadata": {},
   "outputs": [],
   "source": [
    "svc_y_pred = SVC_classifier.predict(X_test)"
   ]
  },
  {
   "cell_type": "code",
   "execution_count": 24,
   "id": "f143274a",
   "metadata": {},
   "outputs": [
    {
     "data": {
      "text/plain": [
       "array([[39,  0,  0,  0,  0],\n",
       "       [ 0, 28,  0,  0,  0],\n",
       "       [ 0,  0, 29,  0,  0],\n",
       "       [ 0,  0,  0, 26,  0],\n",
       "       [ 0,  0,  0,  0, 36]])"
      ]
     },
     "execution_count": 24,
     "metadata": {},
     "output_type": "execute_result"
    }
   ],
   "source": [
    "cm = confusion_matrix(y_test, svc_y_pred)\n",
    "cm"
   ]
  },
  {
   "cell_type": "markdown",
   "id": "d8205950",
   "metadata": {},
   "source": [
    "### Perceptron"
   ]
  },
  {
   "cell_type": "code",
   "execution_count": 25,
   "id": "45713948",
   "metadata": {},
   "outputs": [
    {
     "data": {
      "text/plain": [
       "Perceptron()"
      ]
     },
     "execution_count": 25,
     "metadata": {},
     "output_type": "execute_result"
    }
   ],
   "source": [
    "perceptron = Perceptron()\n",
    "perceptron.fit(X_train, y_train)"
   ]
  },
  {
   "cell_type": "code",
   "execution_count": 26,
   "id": "257ea317",
   "metadata": {},
   "outputs": [],
   "source": [
    "perceptron_y_pred = SVC_classifier.predict(X_test)"
   ]
  },
  {
   "cell_type": "code",
   "execution_count": 27,
   "id": "53340e72",
   "metadata": {},
   "outputs": [
    {
     "data": {
      "text/plain": [
       "array([[39,  0,  0,  0,  0],\n",
       "       [ 0, 28,  0,  0,  0],\n",
       "       [ 0,  0, 29,  0,  0],\n",
       "       [ 0,  0,  0, 26,  0],\n",
       "       [ 0,  0,  0,  0, 36]])"
      ]
     },
     "execution_count": 27,
     "metadata": {},
     "output_type": "execute_result"
    }
   ],
   "source": [
    "cm = confusion_matrix(y_test, perceptron_y_pred)\n",
    "cm"
   ]
  },
  {
   "cell_type": "code",
   "execution_count": 28,
   "id": "f6e338e9",
   "metadata": {},
   "outputs": [
    {
     "data": {
      "text/plain": [
       "1.0"
      ]
     },
     "execution_count": 28,
     "metadata": {},
     "output_type": "execute_result"
    }
   ],
   "source": [
    "accuracy_score(y_test, perceptron_y_pred)"
   ]
  }
 ],
 "metadata": {
  "kernelspec": {
   "display_name": "Python 3 (ipykernel)",
   "language": "python",
   "name": "python3"
  },
  "language_info": {
   "codemirror_mode": {
    "name": "ipython",
    "version": 3
   },
   "file_extension": ".py",
   "mimetype": "text/x-python",
   "name": "python",
   "nbconvert_exporter": "python",
   "pygments_lexer": "ipython3",
   "version": "3.7.11"
  }
 },
 "nbformat": 4,
 "nbformat_minor": 5
}
